{
 "cells": [
  {
   "cell_type": "code",
   "execution_count": null,
   "metadata": {},
   "outputs": [],
   "source": [
    "%matplotlib notebook\n",
    "import numpy as np\n",
    "import matplotlib.pyplot as plt\n",
    "\n",
    "from mpl_toolkits import mplot3d\n",
    "import matplotlib.animation as animation"
   ]
  },
  {
   "cell_type": "code",
   "execution_count": null,
   "metadata": {},
   "outputs": [],
   "source": [
    "def Func(x1, x2):\n",
    "    r = np.sqrt((x1 - np.pi)**2 + (x2 - np.pi)**2)\n",
    "    if r==0:\n",
    "        return 0\n",
    "    elif r > 0 and r < np.pi/2:\n",
    "        return 10*np.exp(-1/r)*np.exp(-1/((np.pi/2) - r))\n",
    "    else:\n",
    "        return 0\n",
    "\n",
    "def gamma(x1, x2):\n",
    "    return 0.01*(1+Func(x1,x2))\n",
    "\n",
    "def phi0(x1, x2):\n",
    "    return np.sin(2*x1)**2 + x2*0"
   ]
  },
  {
   "cell_type": "code",
   "execution_count": null,
   "metadata": {},
   "outputs": [],
   "source": [
    "dx = np.pi/64\n",
    "dy = np.pi/64\n",
    "x1 = np.arange(0, 2*np.pi, dx)\n",
    "x2 = np.arange(0, 2*np.pi, dy)\n",
    "nx = len(x1)\n",
    "ny = len(x2)\n",
    "X1, X2 = np.meshgrid(x1, x2)\n",
    "print(nx)\n",
    "print(ny)"
   ]
  },
  {
   "cell_type": "code",
   "execution_count": null,
   "metadata": {},
   "outputs": [],
   "source": [
    "u1 = np.zeros((nx,ny))\n",
    "u2 = np.zeros((nx,ny))\n",
    "for i in range(nx):\n",
    "    for j in range(ny):\n",
    "        u1[i,j] = -(x2[j]-np.pi)*Func(x1[i],x2[j])\n",
    "        u2[i,j] = (x1[i]-np.pi)*Func(x1[i],x2[j])\n",
    "phi_0 = phi0(X1, X2)\n",
    "phi = phi_0\n",
    "dPhi = np.zeros((nx,ny,2))"
   ]
  },
  {
   "cell_type": "code",
   "execution_count": null,
   "metadata": {},
   "outputs": [],
   "source": [
    "# fig = plt.figure()\n",
    "# ax = plt.axes(projection='3d')\n",
    "# ax.contour3D(X1, X2, phi, 50, cmap='binary')\n",
    "# ax.set_xlabel('x1')\n",
    "# ax.set_ylabel('x2')\n",
    "# ax.set_zlabel('phi')\n",
    "# ax.set_title('3D contour')\n",
    "# plt.show()\n"
   ]
  },
  {
   "cell_type": "code",
   "execution_count": null,
   "metadata": {},
   "outputs": [],
   "source": [
    "def dPhi_func(phi):\n",
    "    \n",
    "    dPhi = np.zeros((nx,ny,2))\n",
    "    for i in range(2,ny-2):\n",
    "        for j in range(0,nx-2):\n",
    "            dPhi[i,j,1] = ((-1/3)*(phi[i+2,j]-phi[i-2,j])/(4*dy)) + ((4/3)*(phi[i+1,j]-phi[i-1,j])/(2*dy)) # again, x2\n",
    "            dPhi[i,j,0] = ((-1/3)*(phi[i,j+2]-phi[i,j-2])/(4*dx)) + ((4/3)*(phi[i,j+1]-phi[i,j-1])/(2*dx)) # and x1 here \n",
    "    \n",
    "    \n",
    "    # periodic boundary conditions\n",
    "    # dPhi[:,0,0] = automtically handled by python\n",
    "    # dPhi[:,1,0] = automatically handled by python\n",
    "    dPhi[:, -1, 0] = ((-1/3)*(phi[:,1]-phi[:,-3])/(4*dx)) + ((4/3)*(phi[:,0]-phi[:,-2])/(2*dx))\n",
    "    dPhi[:, -2, 0] = ((-1/3)*(phi[:,0]-phi[:,-4])/(4*dx)) + ((4/3)*(phi[:,-1]-phi[:,-3])/(2*dx))\n",
    "    \n",
    "    # asymmetric derivatives for dirichlet boundary conditions\n",
    "    # at 2 and ny-2 \n",
    "    dPhi[1,:,1] = (-phi[4,:] + 6*phi[3,:] + 18*phi[2,:] + 10*phi[1,:] - 33*phi[0,:])/(60*dy)\n",
    "    dPhi[-2,:,1] = (-phi[-5,:] + 6*phi[-4,:] + 18*phi[-3,:] + 10*phi[-2,:] - 33*phi[-1,:])/(60*dy)\n",
    "    # at 1 and ny-1 \n",
    "    dPhi[0,:,1] = 0\n",
    "    dPhi[-1,:,1] = 0\n",
    "\n",
    "    return dPhi"
   ]
  },
  {
   "cell_type": "code",
   "execution_count": null,
   "metadata": {},
   "outputs": [],
   "source": [
    "def d2_Phi_func(dPhi, gamma):\n",
    "\n",
    "    dPhi_Gamma = np.zeros((nx, ny, 2))\n",
    "    for i in range(nx):\n",
    "        for j in range(ny):\n",
    "            dPhi_Gamma[i,j,0] = gamma(x1[i], x2[j])*dPhi[i,j,0]    #dPhi_gamma_x1\n",
    "            dPhi_Gamma[i,j,1] = gamma(x1[i], x2[j])*dPhi[i,j,1]    #dPhi_gamma_x2\n",
    "\n",
    "    d2_Phi = np.zeros((nx, ny, 2))\n",
    "    #dPhi_Gamma = np.transpose(dPhi_Gamma, [1,0,2])\n",
    "    for i in range(2,ny-2):\n",
    "        for j in range(0,nx-2):\n",
    "            d2_Phi[i,j,1] = ((-1/3)*(dPhi_Gamma[i+2,j,1]-dPhi_Gamma[i-2,j,1])/(4*dx)) + ((4/3)*(dPhi_Gamma[i+1,j,1]-dPhi_Gamma[i-1,j,1])/(2*dx))\n",
    "            d2_Phi[i,j,0] = ((-1/3)*(dPhi_Gamma[i,j+2,0]-dPhi_Gamma[i,j-2,0])/(4*dy)) + ((4/3)*(dPhi_Gamma[i,j+1,0]-dPhi_Gamma[i,j-1,0])/(2*dy))\n",
    "\n",
    "    \n",
    "    # periodic boundary conditions\n",
    "    # dPhi[:,0,0] = automtically handled by python\n",
    "    # dPhi[:,1,0] = automatically handled by python\n",
    "    d2_Phi[:, -1, 0] = ((-1/3)*(dPhi_Gamma[:,1,0]-dPhi_Gamma[:,-3,0])/(4*dx)) + ((4/3)*(dPhi_Gamma[:,0,0]-dPhi_Gamma[:,-2,0])/(2*dx))\n",
    "    d2_Phi[:, -2, 0] = ((-1/3)*(dPhi_Gamma[:,0,0]-dPhi_Gamma[:,-4,0])/(4*dx)) + ((4/3)*(dPhi_Gamma[:,-1,0]-dPhi_Gamma[:,-3,0])/(2*dx))\n",
    "    \n",
    "    # asymmetric second derivatives for dirichlet boundary conditions\n",
    "    # at 2 and ny-2 \n",
    "    d2_Phi[1,:,1] = (-dPhi_Gamma[4,:,1] + 6*dPhi_Gamma[3,:,1] + 18*dPhi_Gamma[2,:,1] + 10*dPhi_Gamma[1,:,1] - 33*dPhi_Gamma[0,:,1])/(60*dy)\n",
    "    d2_Phi[-2,:,1] = (-dPhi_Gamma[-5,:,1] + 6*dPhi_Gamma[-4,:,1] + 18*dPhi_Gamma[-3,:,1] + 10*dPhi_Gamma[-2,:,1] - 33*dPhi_Gamma[-1,:,1])/(60*dy)\n",
    "    # at 1 and ny-1 \n",
    "    d2_Phi[0,:,1] = 0\n",
    "    d2_Phi[-1,:,1] = 0\n",
    "    \n",
    "\n",
    "            \n",
    "    return d2_Phi\n"
   ]
  },
  {
   "cell_type": "code",
   "execution_count": null,
   "metadata": {},
   "outputs": [],
   "source": [
    "dt = .01\n",
    "t_final = 1\n",
    "nt = int(t_final/dt)\n",
    "print(nt)"
   ]
  },
  {
   "cell_type": "code",
   "execution_count": null,
   "metadata": {},
   "outputs": [],
   "source": [
    "phi_array = []\n",
    "dphi_x1_array = []\n",
    "dphi_x2_array = []\n",
    "d2phi_x1_array = []\n",
    "d2phi_x2_array = []\n",
    "\n",
    "for i in range(nt):\n",
    "    \n",
    "    dPhi = dPhi_func(phi)\n",
    "    d2_Phi = d2_Phi_func(dPhi, gamma)\n",
    "    phi = phi + dt*(-u1.T*dPhi[:,:,0] - u2.T*dPhi[:,:,1] + d2_Phi[:,:,0] + d2_Phi[:,:,1])\n",
    "    \n",
    "    \n",
    "    phi_array.append(phi)\n",
    "    dphi_x1_array.append(dPhi[:,:,0])\n",
    "    dphi_x2_array.append(dPhi[:,:,1])\n",
    "    d2phi_x1_array.append(d2_Phi[:,:,0])\n",
    "    d2phi_x2_array.append(d2_Phi[:,:,1])\n",
    "    \n",
    "    if i%50==0:\n",
    "        print(f'timestep: {i}/{nt}')"
   ]
  },
  {
   "cell_type": "code",
   "execution_count": null,
   "metadata": {},
   "outputs": [],
   "source": [
    "# fig = plt.figure()\n",
    "# ax = plt.axes(projection='3d')\n",
    "# ax.contour3D(X1, X2, phi, 50, cmap='binary')\n",
    "# ax.set_xlabel('x1')\n",
    "# ax.set_ylabel('x2')\n",
    "# ax.set_zlabel('phi')\n",
    "# plt.title(\"phi at t=1\")\n",
    "# plt.show()"
   ]
  },
  {
   "cell_type": "code",
   "execution_count": null,
   "metadata": {},
   "outputs": [],
   "source": [
    "phi[round(np.pi*5/(4*dx)),round(np.pi/dx)]\n"
   ]
  },
  {
   "cell_type": "code",
   "execution_count": null,
   "metadata": {},
   "outputs": [],
   "source": [
    "fps = int(nt/5)\n",
    "nSeconds = 5*t_final\n",
    "snapshots1 = phi_array\n",
    "print(np.shape(snapshots1))\n",
    "fig = plt.figure( figsize=(3,3) )\n",
    "\n",
    "a = snapshots1[0]\n",
    "im = plt.imshow(a, interpolation='nearest', aspect='auto', origin='lower', extent=[0,2*np.pi,0,2*np.pi])\n",
    "fig.colorbar(im)\n",
    "def animate_func(i):\n",
    "    if i % fps == 0:\n",
    "        print( '.', end ='' )\n",
    "\n",
    "    im.set_array(snapshots1[i])\n",
    "    return [im]\n",
    "\n",
    "anim = animation.FuncAnimation(\n",
    "                               fig, \n",
    "                               animate_func, \n",
    "                               frames = nSeconds * fps,\n",
    "                               interval = 1000 / fps, # in ms\n",
    "                               )\n",
    "\n",
    "plt.xlabel('x1')\n",
    "plt.ylabel('x2')\n",
    "plt.title('CDS x2Dirichlet')\n",
    "#anim.save('Question2_Visuals/dt_cds_dirichlet128.mp4')"
   ]
  },
  {
   "cell_type": "code",
   "execution_count": null,
   "metadata": {},
   "outputs": [],
   "source": [
    "# %matplotlib inline\n",
    "\n",
    "# plt.imshow(phi, interpolation='nearest', origin='lower', extent=[0,2*np.pi,0,2*np.pi])\n",
    "# plt.scatter(np.pi, np.pi*5/4, color='r', label='$(\\pi, \\pi*5/4)$')\n",
    "# plt.title(\"CDS vertical Dirichlet t=1\")\n",
    "# plt.xlabel('x1')\n",
    "# plt.ylabel('x2')\n",
    "# plt.legend()\n",
    "# plt.colorbar()\n",
    "# plt.savefig(\"Question2_Visuals/t1_dirichlet.png\")\n",
    "# plt.show()\n"
   ]
  },
  {
   "cell_type": "code",
   "execution_count": null,
   "metadata": {},
   "outputs": [],
   "source": []
  },
  {
   "cell_type": "code",
   "execution_count": null,
   "metadata": {},
   "outputs": [],
   "source": []
  }
 ],
 "metadata": {
  "kernelspec": {
   "display_name": "Python 3",
   "language": "python",
   "name": "python3"
  },
  "language_info": {
   "codemirror_mode": {
    "name": "ipython",
    "version": 3
   },
   "file_extension": ".py",
   "mimetype": "text/x-python",
   "name": "python",
   "nbconvert_exporter": "python",
   "pygments_lexer": "ipython3",
   "version": "3.7.4"
  }
 },
 "nbformat": 4,
 "nbformat_minor": 2
}
